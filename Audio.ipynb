{
  "cells": [
    {
      "cell_type": "code",
      "execution_count": 1,
      "metadata": {
        "colab": {
          "base_uri": "https://localhost:8080/"
        },
        "id": "nUErEr75dJcL",
        "outputId": "efe48260-1556-4db4-fe1d-0e21de2b2460"
      },
      "outputs": [
        {
          "name": "stdout",
          "output_type": "stream",
          "text": [
            "Drive already mounted at /content/drive; to attempt to forcibly remount, call drive.mount(\"/content/drive\", force_remount=True).\n"
          ]
        }
      ],
      "source": [
        "from google.colab import drive\n",
        "drive.mount('/content/drive')"
      ]
    },
    {
      "cell_type": "code",
      "execution_count": 9,
      "metadata": {
        "colab": {
          "base_uri": "https://localhost:8080/"
        },
        "id": "fkokOxxod_-N",
        "outputId": "603d9d96-687c-4cc2-f6d9-7b2051336f64"
      },
      "outputs": [
        {
          "name": "stdout",
          "output_type": "stream",
          "text": [
            "MoviePy - Writing audio in /content/output_audio.wav\n"
          ]
        },
        {
          "name": "stderr",
          "output_type": "stream",
          "text": []
        },
        {
          "name": "stdout",
          "output_type": "stream",
          "text": [
            "MoviePy - Done.\n",
            "Audio extracted and saved to: /content/output_audio.wav\n"
          ]
        }
      ],
      "source": [
        "from moviepy.editor import VideoFileClip\n",
        "\n",
        "def extract_audio(video_file, audio_file):\n",
        "    # Load the video clip\n",
        "    video_clip = VideoFileClip(video_file)\n",
        "\n",
        "    # Extract audio and save it to the output file\n",
        "    video_clip.audio.write_audiofile(audio_file)\n",
        "\n",
        "if __name__ == \"__main__\":\n",
        "    # Specify the path of the input video file\n",
        "    input_video_file = '/content/drive/MyDrive/AlitaBattleAngel.mkv'\n",
        "\n",
        "    # Specify the path for the output audio file\n",
        "    output_audio_file = '/content/output_audio.wav'\n",
        "\n",
        "    # Call the function to extract audio\n",
        "    extract_audio(input_video_file, output_audio_file)\n",
        "\n",
        "    print(f\"Audio extracted and saved to: {output_audio_file}\")\n"
      ]
    },
    {
      "cell_type": "code",
      "execution_count": 11,
      "metadata": {
        "colab": {
          "base_uri": "https://localhost:8080/"
        },
        "id": "7q_PpTsMwI3J",
        "outputId": "a7a0a916-381d-4e5b-83d0-618b161bde84"
      },
      "outputs": [
        {
          "name": "stdout",
          "output_type": "stream",
          "text": [
            "Sample Rate: 44100 Hz\n",
            "Left Channel Data Rate: 2334705508800 bytes/second\n",
            "Right Channel Data Rate: 2334705508800 bytes/second\n"
          ]
        }
      ],
      "source": [
        "from scipy.io.wavfile import read\n",
        "import moviepy.editor as mp\n",
        "\n",
        "\n",
        "audio_file_path = '/content/output_audio.wav'\n",
        "\n",
        "sample_rate, stereo_data = read(audio_file_path)\n",
        "\n",
        "n = len(stereo_data)\n",
        "\n",
        "# Separate the stereo channels\n",
        "left_channel = stereo_data[:, 0]\n",
        "right_channel = stereo_data[:, 1]\n",
        "\n",
        "left_channel_data_rate = sample_rate * left_channel.shape[0] * left_channel.dtype.itemsize\n",
        "right_channel_data_rate = sample_rate * right_channel.shape[0] * right_channel.dtype.itemsize\n",
        "\n",
        "print(f\"Sample Rate: {sample_rate} Hz\")\n",
        "print(f\"Left Channel Data Rate: {left_channel_data_rate} bytes/second\")\n",
        "print(f\"Right Channel Data Rate: {right_channel_data_rate} bytes/second\")\n"
      ]
    },
    {
      "cell_type": "code",
      "execution_count": 12,
      "metadata": {
        "colab": {
          "base_uri": "https://localhost:8080/",
          "height": 564
        },
        "id": "k6oZFav_vHtI",
        "outputId": "d44d9547-f6c1-4327-aeef-da2a2531e812"
      },
      "outputs": [
        {
          "data": {
            "image/png": "[encoded data removed]",
            "text/plain": [
              "<Figure size 1000x600 with 1 Axes>"
            ]
          },
          "metadata": {},
          "output_type": "display_data"
        }
      ],
      "source": [
        "import numpy as np\n",
        "import matplotlib.pyplot as plt\n",
        "import librosa\n",
        "\n",
        "fft_result = np.fft.fft(left_channel)\n",
        "abs_left_Fourier = np.absolute(fft_result[:n//2])\n",
        "\n",
        "fft_freq = np.fft.fftfreq(len(left_channel), 1 / sample_rate)\n",
        "\n",
        "magnitude_spectrum = np.abs(fft_result)\n",
        "\n",
        "plt.figure(figsize=(10, 6))\n",
        "plt.plot(fft_freq, magnitude_spectrum)\n",
        "plt.title('Magnitude Spectrum of Left Channel')\n",
        "plt.xlabel('Frequency (Hz)')\n",
        "plt.ylabel('Magnitude')\n",
        "plt.grid(True)\n",
        "plt.show()\n"
      ]
    },
    {
      "cell_type": "code",
      "execution_count": 29,
      "metadata": {
        "colab": {
          "base_uri": "https://localhost:8080/"
        },
        "id": "X1e31IyWoJSg",
        "outputId": "0cfd5393-d433-4542-af8d-50d4a9bfa31f"
      },
      "outputs": [
        {
          "name": "stdout",
          "output_type": "stream",
          "text": [
            "Requirement already satisfied: pydub in /usr/local/lib/python3.10/dist-packages (0.25.1)\n",
            "Audio extracted and saved as MP3: /content/audio.mp3\n",
            "Compressed audio saved as WAV: /content/compressed_audio_final.wav\n"
          ]
        }
      ],
      "source": [
        "!pip install pydub\n",
        "\n",
        "import librosa\n",
        "from sklearn.decomposition import PCA\n",
        "import soundfile as sf\n",
        "from pydub import AudioSegment\n",
        "\n",
        "def extract_audio(input_wav, output_mp3):\n",
        "    # Read the WAV file\n",
        "    audio_data, sample_rate = librosa.load(input_wav, mono=True)\n",
        "\n",
        "    # Write the WAV data to a temporary file\n",
        "    temp_wav = 'temp.wav'\n",
        "    sf.write(temp_wav, audio_data, sample_rate)\n",
        "\n",
        "    # Read the temporary WAV file with pydub\n",
        "    audio_segment = AudioSegment.from_wav(temp_wav)\n",
        "\n",
        "    # Export the audio as MP3\n",
        "    audio_segment.export(output_mp3, format=\"mp3\")\n",
        "\n",
        "def compress_audio(input_mp3, output_compressed_wav, compression_ratio=0.95):\n",
        "    # Read the MP3 file\n",
        "    audio_data, sample_rate = librosa.load(input_mp3, mono=True)\n",
        "\n",
        "    # Apply PCA\n",
        "    pca = PCA(n_components=compression_ratio)\n",
        "    compressed_data = pca.fit_transform(audio_data.reshape(-1, 1))\n",
        "\n",
        "    # Reconstruct the compressed audio data\n",
        "    reconstructed_data = pca.inverse_transform(compressed_data).flatten()\n",
        "\n",
        "    # Write the compressed audio to a new WAV file\n",
        "    sf.write(output_compressed_wav, reconstructed_data, sample_rate)\n",
        "\n",
        "if __name__ == \"__main__\":\n",
        "    # Specify the path of the input WAV file\n",
        "    input_wav = '/content/output_audio.wav'\n",
        "\n",
        "    # Specify the path for the output MP3 file\n",
        "    output_mp3 = '/content/audio.mp3'\n",
        "\n",
        "    # Specify the path for the output compressed WAV file\n",
        "    output_compressed_wav = '/content/compressed_audio_final.wav'\n",
        "\n",
        "    # Specify the compression ratio\n",
        "    compression_ratio = 0.95\n",
        "\n",
        "    # Step 1: Extract Audio and Convert to MP3\n",
        "    extract_audio(input_wav, output_mp3)\n",
        "\n",
        "    # Step 2: Compress the Audio\n",
        "    compress_audio(output_mp3, output_compressed_wav, compression_ratio)\n",
        "\n",
        "    print(f\"Audio extracted and saved as MP3: {output_mp3}\")\n",
        "    print(f\"Compressed audio saved as WAV: {output_compressed_wav}\")\n"
      ]
    },
    {
      "cell_type": "code",
      "execution_count": null,
      "metadata": {},
      "outputs": [],
      "source": [
        "from pydub import AudioSegment\n",
        "\n",
        "def convert_wav_to_mp3(input_wav, output_mp3):\n",
        "    # Load the .wav file\n",
        "    sound = AudioSegment.from_wav(input_wav)\n",
        "\n",
        "    # Export as .mp3\n",
        "    sound.export(output_mp3, format=\"mp3\")\n",
        "\n",
        "# Example usage:\n",
        "input_wav_file = \"/content/output_audio.wav\"\n",
        "output_mp3_file = \"/content/original.mp3\"\n",
        "\n",
        "convert_wav_to_mp3(input_wav_file, output_mp3_file)\n",
        "\n",
        "import numpy as np\n",
        "from sklearn.decomposition import PCA\n",
        "from pydub import AudioSegment\n",
        "import librosa\n",
        "\n",
        "\n",
        "audio_data, sr = librosa.load(input_mp3_file,sr=None)\n",
        "\n",
        "audio_data_2d = audio_data.reshape(1,-1)\n",
        "\n",
        "compression_size = 0.5\n",
        "\n",
        "pca = PCA(n_components = compression_size)\n",
        "cr = pca.fit_transform(audio_data_2d)\n",
        "\n",
        "np.save(\"com.npy\",cr)\n",
        "\n",
        "\n",
        "input_mp3_file = \"/content/original.mp3\"\n"
      ]
    },
    {
      "cell_type": "code",
      "execution_count": null,
      "metadata": {},
      "outputs": [],
      "source": [
        "\n",
        "import soundfile as sf\n",
        "\n",
        "re_audio_2d = pca.inverse_transform(cr)\n",
        "re_audio=re_audio_2d.flatten()\n",
        "\n",
        "sf.write(\"reconstructed.mp3\",re_audio,sr)"
      ]
    }
  ],
  "metadata": {
    "colab": {
      "provenance": []
    },
    "kernelspec": {
      "display_name": "Python 3",
      "name": "python3"
    },
    "language_info": {
      "name": "python"
    }
  },
  "nbformat": 4,
  "nbformat_minor": 0
}
